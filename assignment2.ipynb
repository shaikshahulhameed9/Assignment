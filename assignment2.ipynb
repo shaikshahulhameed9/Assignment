{
 "cells": [
  {
   "cell_type": "code",
   "execution_count": null,
   "id": "302ba9d9",
   "metadata": {},
   "outputs": [],
   "source": [
    "import random\n",
    "\n",
    "trials = 10000\n",
    "heads = 0\n",
    "tails = 0\n",
    "\n",
    "for _ in range(trials):\n",
    "    toss = random.choice([\"H\", \"T\"])\n",
    "    if toss == \"H\":\n",
    "        heads += 1\n",
    "    else:\n",
    "        tails += 1\n",
    "\n",
    "p_heads = heads / trials\n",
    "p_tails = tails / trials\n",
    "\n",
    "print(\"Heads Probability:\", p_heads)\n",
    "print(\"Tails Probability:\", p_tails)\n",
    "\n",
    "count_sum7 = 0\n",
    "\n",
    "for _ in range(trials):\n",
    "    d1 = random.randint(1, 6)\n",
    "    d2 = random.randint(1, 6)\n",
    "    if d1 + d2 == 7:\n",
    "        count_sum7 += 1\n",
    "\n",
    "p_sum7 = count_sum7 / trials\n",
    "print(\"Probability of sum = 7:\", p_sum7)\n"
   ]
  },
  {
   "cell_type": "code",
   "execution_count": null,
   "id": "147e465c",
   "metadata": {},
   "outputs": [],
   "source": [
    "def prob_at_least_one_six(trials=10000):\n",
    "    success = 0\n",
    "\n",
    "    for _ in range(trials):\n",
    "        found_six = False\n",
    "        for _ in range(10):\n",
    "            roll = random.randint(1, 6)\n",
    "            if roll == 6:\n",
    "                found_six = True\n",
    "                break\n",
    "        if found_six:\n",
    "            success += 1\n",
    "\n",
    "    return success / trials\n",
    "\n",
    "print(\"Probability of at least one 6 in 10 rolls:\", prob_at_least_one_six())\n"
   ]
  },
  {
   "cell_type": "code",
   "execution_count": null,
   "id": "499796a2",
   "metadata": {},
   "outputs": [],
   "source": [
    "import random\n",
    "\n",
    "colors = [\"R\"] * 5 + [\"G\"] * 7 + [\"B\"] * 8\n",
    "trials = 1000\n",
    "\n",
    "prev, curr = [], []\n",
    "\n",
    "for _ in range(trials):\n",
    "    first = random.choice(colors)\n",
    "    second = random.choice(colors)\n",
    "    prev.append(first)\n",
    "    curr.append(second)\n",
    "\n",
    "count_blue = 0\n",
    "red_given_blue = 0\n",
    "for i in range(trials):\n",
    "    if prev[i] == \"B\":\n",
    "        count_blue += 1\n",
    "        if curr[i] == \"R\":\n",
    "            red_given_blue += 1\n",
    "\n",
    "p_red_given_blue = red_given_blue / count_blue\n",
    "print(\"P(Red | Previous Blue):\", p_red_given_blue)\n"
   ]
  },
  {
   "cell_type": "code",
   "execution_count": null,
   "id": "a57f8f49",
   "metadata": {},
   "outputs": [],
   "source": [
    "import numpy as np\n",
    "\n",
    "values = [1, 2, 3]\n",
    "probs = [0.25, 0.35, 0.4]\n",
    "\n",
    "sample = np.random.choice(values, size=1000, p=probs)\n",
    "\n",
    "mean = np.mean(sample)\n",
    "var = np.var(sample)\n",
    "std = np.std(sample)\n",
    "\n",
    "print(\"Mean:\", mean)\n",
    "print(\"Variance:\", var)\n",
    "print(\"Std Dev:\", std)\n"
   ]
  },
  {
   "cell_type": "code",
   "execution_count": null,
   "id": "2f71d12c",
   "metadata": {},
   "outputs": [],
   "source": [
    "import matplotlib.pyplot as plt\n",
    "\n",
    "data = np.random.exponential(scale=5, size=2000)\n",
    "\n",
    "plt.hist(data, bins=30, density=True, alpha=0.6, color='skyblue')\n",
    "\n",
    "from scipy.stats import expon\n",
    "x = np.linspace(0, max(data), 100)\n",
    "plt.plot(x, expon(scale=5).pdf(x), 'r-', lw=2)\n",
    "\n",
    "plt.title(\"Exponential Distribution (mean=5)\")\n",
    "plt.show()\n"
   ]
  },
  {
   "cell_type": "code",
   "execution_count": null,
   "id": "17f2e7e6",
   "metadata": {},
   "outputs": [],
   "source": [
    "uniform_data = np.random.uniform(0, 1, 10000)\n",
    "sample_means = []\n",
    "for _ in range(1000):\n",
    "    sample = np.random.choice(uniform_data, size=30)\n",
    "    sample_means.append(np.mean(sample))\n",
    "plt.hist(uniform_data, bins=30, alpha=0.6, density=True, label=\"Uniform Data\")\n",
    "plt.hist(sample_means, bins=30, alpha=0.6, density=True, label=\"Sample Means\")\n",
    "plt.legend()\n",
    "plt.title(\"Central Limit Theorem\")\n",
    "plt.show()\n"
   ]
  }
 ],
 "metadata": {
  "language_info": {
   "name": "python"
  }
 },
 "nbformat": 4,
 "nbformat_minor": 5
}
